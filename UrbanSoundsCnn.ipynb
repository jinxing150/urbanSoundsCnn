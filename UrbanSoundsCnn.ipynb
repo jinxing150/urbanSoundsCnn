{
 "cells": [
  {
   "cell_type": "code",
   "execution_count": 20,
   "id": "a405c9af",
   "metadata": {
    "scrolled": true
   },
   "outputs": [],
   "source": [
    "import pandas as pd\n",
    "import numpy as np\n",
    "import matplotlib.pyplot as plt\n",
    "from keras.models import Sequential\n",
    "from keras.layers import Dense, Dropout, Flatten, Conv2D, MaxPool2D\n",
    "from tensorflow.keras.optimizers import Adam\n",
    "from PIL import Image\n",
    "from keras.utils.np_utils import to_categorical \n",
    "import librosa\n",
    "import cv2\n",
    "import os"
   ]
  },
  {
   "cell_type": "code",
   "execution_count": 21,
   "id": "402aa4ae",
   "metadata": {},
   "outputs": [],
   "source": [
    "# İki adet model oluşturuldu. 1.Model Doğrudan elde edilen spektrogramlarla eğitildi - 2.Model ise diğer notebook üzerinden\n",
    "# elde edilen spektogram görüntüleri sayısal değerlere dönüştürülerek eğitildi.\n",
    "# doğrudan spektogram verileri ile eğitilen model, spektogram -> görüntü -> numy.array dönüşümü işlemlerinden \n",
    "# elde edilen veri ile eğitilen modele göre\n",
    "# %10 daha fazla başarılı sonuçlar ürettmiştir (epoch = 20,batchsize = 250 değer ataması durumunda)"
   ]
  },
  {
   "cell_type": "code",
   "execution_count": null,
   "id": "e24b8fc0",
   "metadata": {},
   "outputs": [],
   "source": [
    "!pip install librosa\n",
    "!pip install opencv-python\n",
    "!pip install tensorflow\n",
    "!pip install keras"
   ]
  },
  {
   "cell_type": "code",
   "execution_count": 23,
   "id": "8ac6d1d3",
   "metadata": {},
   "outputs": [],
   "source": [
    "spectrogram = []\n",
    "data = []\n",
    "\n",
    "data1 = pd.read_csv(\"UrbanSound8K/metadata/UrbanSound8K.csv\")\n",
    "y1 = data1[\"classID\"]\n"
   ]
  },
  {
   "cell_type": "code",
   "execution_count": 24,
   "id": "219b1b61",
   "metadata": {
    "scrolled": true
   },
   "outputs": [
    {
     "data": {
      "text/plain": [
       "(8732, 8)"
      ]
     },
     "execution_count": 24,
     "metadata": {},
     "output_type": "execute_result"
    }
   ],
   "source": [
    "data1.shape"
   ]
  },
  {
   "cell_type": "code",
   "execution_count": 5,
   "id": "842423dc",
   "metadata": {},
   "outputs": [
    {
     "name": "stderr",
     "output_type": "stream",
     "text": [
      "C:\\Users\\Begy\\anaconda3\\lib\\site-packages\\librosa\\util\\decorators.py:88: UserWarning: n_fft=2048 is too small for input signal of length=1323\n",
      "  return f(*args, **kwargs)\n",
      "C:\\Users\\Begy\\anaconda3\\lib\\site-packages\\librosa\\util\\decorators.py:88: UserWarning: n_fft=2048 is too small for input signal of length=1103\n",
      "  return f(*args, **kwargs)\n",
      "C:\\Users\\Begy\\anaconda3\\lib\\site-packages\\librosa\\util\\decorators.py:88: UserWarning: n_fft=2048 is too small for input signal of length=1523\n",
      "  return f(*args, **kwargs)\n"
     ]
    }
   ],
   "source": [
    "path = \"UrbanSound8K/audio/\"\n",
    "dim = (64,64)\n",
    "for x in range(0,len(data1)):\n",
    "    new_path = path+\"fold\"+data1.iloc[x,5].astype(str)+\"/\"+data1.iloc[x,0]\n",
    "    file_name = data1.iloc[x,0]\n",
    "    file_name = file_name[:-4].strip().replace(\" \",\"\")\n",
    "     \n",
    "    y,sr = librosa.load(new_path)\n",
    "    spec = librosa.feature.melspectrogram(y=y,sr=sr)\n",
    "    specDB= librosa.amplitude_to_db(spec,ref= np.max)\n",
    "    resized_specDB = cv2.resize(specDB,dim, interpolation = cv2.INTER_AREA)\n",
    "    spectrogram.append(resized_specDB)\n",
    "                        \n",
    "spectrogram = np.array(spectrogram)"
   ]
  },
  {
   "cell_type": "code",
   "execution_count": 6,
   "id": "1dd0db46",
   "metadata": {},
   "outputs": [
    {
     "data": {
      "text/plain": [
       "(8732, 64, 64)"
      ]
     },
     "execution_count": 6,
     "metadata": {},
     "output_type": "execute_result"
    }
   ],
   "source": [
    "spectrogram.shape"
   ]
  },
  {
   "cell_type": "code",
   "execution_count": 25,
   "id": "9189e06c",
   "metadata": {},
   "outputs": [],
   "source": [
    "y2 = []\n",
    "foldNumber = 0\n",
    "for folder in os.listdir('folders'):\n",
    "    for image in os.listdir('folders/'+folder):\n",
    "        img = Image.open('folders/'+folder+'/'+image)\n",
    "        img = img.resize((64,64))\n",
    "        img_s = img.getdata()\n",
    "        img_m = np.array(img_s)\n",
    "        img_m = img_m/255\n",
    "        data.append(img_m)\n",
    "        y2.append(foldNumber) \n",
    "    foldNumber=foldNumber+1  \n",
    "\n",
    "y1 = np.array(y1)    "
   ]
  },
  {
   "cell_type": "code",
   "execution_count": 28,
   "id": "bd4b7c79",
   "metadata": {},
   "outputs": [],
   "source": [
    "data = np.array(data).reshape(-1,64,64,1)\n",
    "y2 = np.array(y2) \n",
    "from sklearn.model_selection import train_test_split"
   ]
  },
  {
   "cell_type": "code",
   "execution_count": 29,
   "id": "4ae16615",
   "metadata": {},
   "outputs": [
    {
     "data": {
      "text/plain": [
       "(8732, 64, 64, 1)"
      ]
     },
     "execution_count": 29,
     "metadata": {},
     "output_type": "execute_result"
    }
   ],
   "source": [
    "data.shape"
   ]
  },
  {
   "cell_type": "code",
   "execution_count": null,
   "id": "dbb96154",
   "metadata": {},
   "outputs": [],
   "source": [
    "\n",
    "X_train, X_test, y_train, y_test = train_test_split(spectrogram, y1, test_size=0.33, random_state=42)\n",
    "y_one_hot =  to_categorical(y_train, num_classes = 10)\n",
    "y_t_one_hot = to_categorical(y_test, num_classes = 10)"
   ]
  },
  {
   "cell_type": "code",
   "execution_count": 18,
   "id": "12f251b2",
   "metadata": {},
   "outputs": [],
   "source": [
    "\n",
    "model = Sequential()\n",
    "    \n",
    "model.add(Conv2D(32, (3, 3), padding='same', activation='relu', input_shape=(64,64,1)))\n",
    "model.add(Conv2D(32, (3, 3), activation='relu'))\n",
    "model.add(MaxPool2D(pool_size=(2, 2)))\n",
    "model.add(Dropout(0.25))\n",
    "\n",
    "model.add(Conv2D(64, (3, 3), padding='same', activation='relu'))\n",
    "model.add(Conv2D(64, (3, 3), activation='relu'))\n",
    "model.add(MaxPool2D(pool_size=(2, 2)))\n",
    "model.add(Dropout(0.25))\n",
    "    \n",
    "model.add(Conv2D(64, (3, 3), padding='same', activation='relu'))\n",
    "model.add(Conv2D(64, (3, 3), activation='relu'))\n",
    "model.add(MaxPool2D(pool_size=(2, 2)))\n",
    "model.add(Dropout(0.25))\n",
    "\n",
    "model.add(Flatten())\n",
    "model.add(Dense(512, activation='relu'))\n",
    "model.add(Dropout(0.5))\n",
    "model.add(Dense(10, activation='softmax'))\n",
    "\n",
    "model.compile(optimizer='Adam', loss='categorical_crossentropy', metrics=['accuracy'])   \n"
   ]
  },
  {
   "cell_type": "code",
   "execution_count": 19,
   "id": "5b35254e",
   "metadata": {},
   "outputs": [
    {
     "name": "stdout",
     "output_type": "stream",
     "text": [
      "Epoch 1/20\n",
      "24/24 [==============================] - 71s 3s/step - loss: 2.6045 - accuracy: 0.1135 - val_loss: 2.2751 - val_accuracy: 0.1096\n",
      "Epoch 2/20\n",
      "24/24 [==============================] - 66s 3s/step - loss: 2.2278 - accuracy: 0.1509 - val_loss: 2.0665 - val_accuracy: 0.2776\n",
      "Epoch 3/20\n",
      "24/24 [==============================] - 72s 3s/step - loss: 1.9893 - accuracy: 0.2819 - val_loss: 1.6804 - val_accuracy: 0.4493\n",
      "Epoch 4/20\n",
      "24/24 [==============================] - 80s 3s/step - loss: 1.5891 - accuracy: 0.4427 - val_loss: 1.4032 - val_accuracy: 0.4972\n",
      "Epoch 5/20\n",
      "24/24 [==============================] - 74s 3s/step - loss: 1.3384 - accuracy: 0.5311 - val_loss: 1.2922 - val_accuracy: 0.5524\n",
      "Epoch 6/20\n",
      "24/24 [==============================] - 71s 3s/step - loss: 1.2200 - accuracy: 0.5696 - val_loss: 1.1558 - val_accuracy: 0.5874\n",
      "Epoch 7/20\n",
      "24/24 [==============================] - 70s 3s/step - loss: 1.1505 - accuracy: 0.6017 - val_loss: 1.2020 - val_accuracy: 0.5680\n",
      "Epoch 8/20\n",
      "24/24 [==============================] - 67s 3s/step - loss: 1.0589 - accuracy: 0.6337 - val_loss: 0.9248 - val_accuracy: 0.6922\n",
      "Epoch 9/20\n",
      "24/24 [==============================] - 70s 3s/step - loss: 0.9264 - accuracy: 0.6745 - val_loss: 0.9069 - val_accuracy: 0.6895\n",
      "Epoch 10/20\n",
      "24/24 [==============================] - 67s 3s/step - loss: 0.8491 - accuracy: 0.7009 - val_loss: 0.7641 - val_accuracy: 0.7564\n",
      "Epoch 11/20\n",
      "24/24 [==============================] - 65s 3s/step - loss: 0.7843 - accuracy: 0.7321 - val_loss: 0.7059 - val_accuracy: 0.7644\n",
      "Epoch 12/20\n",
      "24/24 [==============================] - 63s 3s/step - loss: 0.7384 - accuracy: 0.7456 - val_loss: 0.8021 - val_accuracy: 0.7151\n",
      "Epoch 13/20\n",
      "24/24 [==============================] - 66s 3s/step - loss: 0.6984 - accuracy: 0.7621 - val_loss: 0.6455 - val_accuracy: 0.7824\n",
      "Epoch 14/20\n",
      "24/24 [==============================] - 72s 3s/step - loss: 0.6580 - accuracy: 0.7716 - val_loss: 0.6610 - val_accuracy: 0.7866\n",
      "Epoch 15/20\n",
      "24/24 [==============================] - 65s 3s/step - loss: 0.5820 - accuracy: 0.8022 - val_loss: 0.6764 - val_accuracy: 0.7779\n",
      "Epoch 16/20\n",
      "24/24 [==============================] - 67s 3s/step - loss: 0.5506 - accuracy: 0.8156 - val_loss: 0.7951 - val_accuracy: 0.7380\n",
      "Epoch 17/20\n",
      "24/24 [==============================] - 66s 3s/step - loss: 0.5531 - accuracy: 0.8142 - val_loss: 0.5743 - val_accuracy: 0.8269\n",
      "Epoch 18/20\n",
      "24/24 [==============================] - 67s 3s/step - loss: 0.4751 - accuracy: 0.8412 - val_loss: 0.5457 - val_accuracy: 0.8286\n",
      "Epoch 19/20\n",
      "24/24 [==============================] - 65s 3s/step - loss: 0.4137 - accuracy: 0.8591 - val_loss: 0.5668 - val_accuracy: 0.8244\n",
      "Epoch 20/20\n",
      "24/24 [==============================] - 63s 3s/step - loss: 0.4196 - accuracy: 0.8568 - val_loss: 0.5921 - val_accuracy: 0.8185\n"
     ]
    },
    {
     "data": {
      "image/png": "[encoded data removed]",
      "text/plain": [
       "<Figure size 432x288 with 1 Axes>"
      ]
     },
     "metadata": {
      "needs_background": "light"
     },
     "output_type": "display_data"
    }
   ],
   "source": [
    "history = model.fit(X_train,y_one_hot, batch_size=250, epochs=20,validation_data=(X_test, y_t_one_hot))\n",
    "plt.plot(history.history['val_loss'], color='b', label=\"validation loss\")\n",
    "plt.title(\"Test Loss\")\n",
    "plt.xlabel(\"Number of Epochs\")\n",
    "plt.ylabel(\"Loss\")\n",
    "plt.legend()\n",
    "plt.show()"
   ]
  },
  {
   "cell_type": "code",
   "execution_count": 30,
   "id": "c2915e05",
   "metadata": {
    "scrolled": true
   },
   "outputs": [],
   "source": [
    "X_train2, X_test2, y_train2, y_test2 = train_test_split(data, y2, test_size=0.33, random_state=42)\n",
    "y_one_hot2 =  to_categorical(y_train2, num_classes = 10)\n",
    "y_t_one_hot2 = to_categorical(y_test2, num_classes = 10)"
   ]
  },
  {
   "cell_type": "code",
   "execution_count": 33,
   "id": "3b92701e",
   "metadata": {},
   "outputs": [],
   "source": [
    "model2 = Sequential()\n",
    "    \n",
    "model2.add(Conv2D(32, (3, 3), padding='same', activation='relu', input_shape=(64,64,1)))\n",
    "model2.add(Conv2D(32, (3, 3), activation='relu'))\n",
    "model2.add(MaxPool2D(pool_size=(2, 2)))\n",
    "model2.add(Dropout(0.25))\n",
    "\n",
    "model2.add(Conv2D(64, (3, 3), padding='same', activation='relu'))\n",
    "model2.add(Conv2D(64, (3, 3), activation='relu'))\n",
    "model2.add(MaxPool2D(pool_size=(2, 2)))\n",
    "model2.add(Dropout(0.25))\n",
    "    \n",
    "model2.add(Conv2D(64, (3, 3), padding='same', activation='relu'))\n",
    "model2.add(Conv2D(64, (3, 3), activation='relu'))\n",
    "model2.add(MaxPool2D(pool_size=(2, 2)))\n",
    "model2.add(Dropout(0.25))\n",
    "\n",
    "model2.add(Flatten())\n",
    "model2.add(Dense(512, activation='relu'))\n",
    "model2.add(Dropout(0.5))\n",
    "model2.add(Dense(10, activation='softmax'))\n",
    "\n",
    "model2.compile(optimizer='Adam', loss='categorical_crossentropy', metrics=['accuracy'])   "
   ]
  },
  {
   "cell_type": "code",
   "execution_count": 34,
   "id": "fddf8d09",
   "metadata": {},
   "outputs": [
    {
     "name": "stdout",
     "output_type": "stream",
     "text": [
      "Epoch 1/20\n",
      "24/24 [==============================] - 66s 3s/step - loss: 2.2619 - accuracy: 0.1217 - val_loss: 2.2452 - val_accuracy: 0.1648\n",
      "Epoch 2/20\n",
      "24/24 [==============================] - 62s 3s/step - loss: 2.1746 - accuracy: 0.1754 - val_loss: 2.1869 - val_accuracy: 0.1728\n",
      "Epoch 3/20\n",
      "24/24 [==============================] - 63s 3s/step - loss: 2.0859 - accuracy: 0.2292 - val_loss: 2.0561 - val_accuracy: 0.2550\n",
      "Epoch 4/20\n",
      "24/24 [==============================] - 58s 2s/step - loss: 1.9874 - accuracy: 0.2590 - val_loss: 1.9645 - val_accuracy: 0.2713\n",
      "Epoch 5/20\n",
      "24/24 [==============================] - 56s 2s/step - loss: 1.8817 - accuracy: 0.2991 - val_loss: 1.8357 - val_accuracy: 0.3362\n",
      "Epoch 6/20\n",
      "24/24 [==============================] - 57s 2s/step - loss: 1.7147 - accuracy: 0.3571 - val_loss: 1.5885 - val_accuracy: 0.4084\n",
      "Epoch 7/20\n",
      "24/24 [==============================] - 56s 2s/step - loss: 1.5796 - accuracy: 0.4197 - val_loss: 1.4505 - val_accuracy: 0.4840\n",
      "Epoch 8/20\n",
      "24/24 [==============================] - 57s 2s/step - loss: 1.4415 - accuracy: 0.4798 - val_loss: 1.4322 - val_accuracy: 0.4698\n",
      "Epoch 9/20\n",
      "24/24 [==============================] - 60s 3s/step - loss: 1.3199 - accuracy: 0.5268 - val_loss: 1.1796 - val_accuracy: 0.5767\n",
      "Epoch 10/20\n",
      "24/24 [==============================] - 62s 3s/step - loss: 1.2344 - accuracy: 0.5624 - val_loss: 1.1650 - val_accuracy: 0.5777\n",
      "Epoch 11/20\n",
      "24/24 [==============================] - 59s 2s/step - loss: 1.2122 - accuracy: 0.5725 - val_loss: 1.1197 - val_accuracy: 0.5999\n",
      "Epoch 12/20\n",
      "24/24 [==============================] - 61s 3s/step - loss: 1.1036 - accuracy: 0.6109 - val_loss: 0.9983 - val_accuracy: 0.6572\n",
      "Epoch 13/20\n",
      "24/24 [==============================] - 64s 3s/step - loss: 1.0157 - accuracy: 0.6431 - val_loss: 0.9503 - val_accuracy: 0.6711\n",
      "Epoch 14/20\n",
      "24/24 [==============================] - 67s 3s/step - loss: 0.9898 - accuracy: 0.6496 - val_loss: 0.9435 - val_accuracy: 0.6707\n",
      "Epoch 15/20\n",
      "24/24 [==============================] - 66s 3s/step - loss: 0.8953 - accuracy: 0.6836 - val_loss: 0.8332 - val_accuracy: 0.7158\n",
      "Epoch 16/20\n",
      "24/24 [==============================] - 66s 3s/step - loss: 0.8269 - accuracy: 0.7125 - val_loss: 0.8331 - val_accuracy: 0.7169\n",
      "Epoch 17/20\n",
      "24/24 [==============================] - 69s 3s/step - loss: 0.8366 - accuracy: 0.7089 - val_loss: 0.7677 - val_accuracy: 0.7446\n",
      "Epoch 18/20\n",
      "24/24 [==============================] - 71s 3s/step - loss: 0.7499 - accuracy: 0.7391 - val_loss: 0.7669 - val_accuracy: 0.7356\n",
      "Epoch 19/20\n",
      "24/24 [==============================] - 78s 3s/step - loss: 0.7020 - accuracy: 0.7559 - val_loss: 0.6803 - val_accuracy: 0.7724\n",
      "Epoch 20/20\n",
      "24/24 [==============================] - 87s 4s/step - loss: 0.6344 - accuracy: 0.7730 - val_loss: 0.6808 - val_accuracy: 0.7706\n"
     ]
    },
    {
     "data": {
      "image/png": "[encoded data removed]",
      "text/plain": [
       "<Figure size 432x288 with 1 Axes>"
      ]
     },
     "metadata": {
      "needs_background": "light"
     },
     "output_type": "display_data"
    }
   ],
   "source": [
    "history2 = model2.fit(X_train2,y_one_hot2, batch_size=250, epochs=20,validation_data=(X_test2, y_t_one_hot2))\n",
    "\n",
    "plt.plot(history2.history['val_loss'], color='b', label=\"validation loss\")\n",
    "plt.title(\"Test Loss\")\n",
    "plt.xlabel(\"Number of Epochs\")\n",
    "plt.ylabel(\"Loss\")\n",
    "plt.legend()\n",
    "plt.show()"
   ]
  },
  {
   "cell_type": "code",
   "execution_count": null,
   "id": "6583fe63",
   "metadata": {},
   "outputs": [],
   "source": []
  }
 ],
 "metadata": {
  "kernelspec": {
   "display_name": "Python 3 (ipykernel)",
   "language": "python",
   "name": "python3"
  },
  "language_info": {
   "codemirror_mode": {
    "name": "ipython",
    "version": 3
   },
   "file_extension": ".py",
   "mimetype": "text/x-python",
   "name": "python",
   "nbconvert_exporter": "python",
   "pygments_lexer": "ipython3",
   "version": "3.9.12"
  }
 },
 "nbformat": 4,
 "nbformat_minor": 5
}
